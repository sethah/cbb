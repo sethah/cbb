{
 "cells": [
  {
   "cell_type": "code",
   "execution_count": 5,
   "metadata": {
    "collapsed": false
   },
   "outputs": [],
   "source": [
    "import pandas as pd\n",
    "import numpy as np\n",
    "import matplotlib.pyplot as plt\n",
    "import psycopg2\n",
    "%matplotlib inline"
   ]
  },
  {
   "cell_type": "code",
   "execution_count": 28,
   "metadata": {
    "collapsed": false
   },
   "outputs": [],
   "source": [
    "conn = psycopg2.connect(database=\"sethhendrickson\", user=\"sethhendrickson\",\n",
    "                            password=\"abc123\", host=\"localhost\", port=\"5432\")\n",
    "df = pd.read_sql(\"SELECT * FROM ncaa_box\", conn)"
   ]
  },
  {
   "cell_type": "code",
   "execution_count": 29,
   "metadata": {
    "collapsed": false
   },
   "outputs": [],
   "source": [
    "totals_df = df[df.first_name == 'Totals']"
   ]
  },
  {
   "cell_type": "code",
   "execution_count": 30,
   "metadata": {
    "collapsed": false
   },
   "outputs": [],
   "source": [
    "df['net_points'] = df.pts + df.ast"
   ]
  },
  {
   "cell_type": "code",
   "execution_count": 34,
   "metadata": {
    "collapsed": false
   },
   "outputs": [
    {
     "name": "stdout",
     "output_type": "stream",
     "text": [
      "<class 'pandas.core.frame.DataFrame'>\n",
      "Int64Index: 51580 entries, 0 to 148041\n",
      "Data columns (total 22 columns):\n",
      "game_id       51580 non-null int64\n",
      "team          51580 non-null object\n",
      "first_name    51580 non-null object\n",
      "last_name     51580 non-null object\n",
      "pos           51580 non-null object\n",
      "min           51580 non-null float64\n",
      "fgm           51580 non-null float64\n",
      "fga           51580 non-null float64\n",
      "tpm           51580 non-null float64\n",
      "tpa           51580 non-null float64\n",
      "ftm           51580 non-null float64\n",
      "fta           51580 non-null float64\n",
      "pts           51580 non-null float64\n",
      "oreb          51580 non-null int64\n",
      "dreb          51580 non-null int64\n",
      "reb           51580 non-null int64\n",
      "ast           51580 non-null float64\n",
      "turnover      51580 non-null int64\n",
      "stl           51580 non-null float64\n",
      "blk           51580 non-null float64\n",
      "pf            51580 non-null int64\n",
      "net_points    51580 non-null float64\n",
      "dtypes: float64(12), int64(6), object(4)\n",
      "memory usage: 9.1+ MB\n"
     ]
    }
   ],
   "source": [
    "df = df.dropna(axis=0, subset=['pos'])\n",
    "df.info()"
   ]
  },
  {
   "cell_type": "code",
   "execution_count": null,
   "metadata": {
    "collapsed": true
   },
   "outputs": [],
   "source": []
  }
 ],
 "metadata": {
  "kernelspec": {
   "display_name": "Python 2",
   "language": "python",
   "name": "python2"
  },
  "language_info": {
   "codemirror_mode": {
    "name": "ipython",
    "version": 2
   },
   "file_extension": ".py",
   "mimetype": "text/x-python",
   "name": "python",
   "nbconvert_exporter": "python",
   "pygments_lexer": "ipython2",
   "version": "2.7.6"
  }
 },
 "nbformat": 4,
 "nbformat_minor": 0
}
